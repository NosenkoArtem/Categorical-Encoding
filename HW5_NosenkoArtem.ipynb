{
  "nbformat": 4,
  "nbformat_minor": 0,
  "metadata": {
    "colab": {
      "provenance": [],
      "authorship_tag": "ABX9TyNp+D8x9jIxuQBsf2PW3NmV",
      "include_colab_link": true
    },
    "kernelspec": {
      "name": "python3",
      "display_name": "Python 3"
    },
    "language_info": {
      "name": "python"
    }
  },
  "cells": [
    {
      "cell_type": "markdown",
      "metadata": {
        "id": "view-in-github",
        "colab_type": "text"
      },
      "source": [
        "<a href=\"https://colab.research.google.com/github/NosenkoArtem/Categorical-Encoding/blob/master/HW5_NosenkoArtem.ipynb\" target=\"_parent\"><img src=\"https://colab.research.google.com/assets/colab-badge.svg\" alt=\"Open In Colab\"/></a>"
      ]
    },
    {
      "cell_type": "markdown",
      "source": [
        "### 1.Импорты библиотек"
      ],
      "metadata": {
        "id": "DY9BtuJjd8Sc"
      }
    },
    {
      "cell_type": "code",
      "source": [
        "!git clone https://github.com/huggingface/peft"
      ],
      "metadata": {
        "colab": {
          "base_uri": "https://localhost:8080/"
        },
        "id": "kapV5MNOeByV",
        "outputId": "f7b3bbb1-ffd9-4680-ce32-f9e3b8585296"
      },
      "execution_count": 85,
      "outputs": [
        {
          "output_type": "stream",
          "name": "stdout",
          "text": [
            "fatal: destination path 'peft' already exists and is not an empty directory.\n"
          ]
        }
      ]
    },
    {
      "cell_type": "code",
      "source": [
        "!pip install -r ./peft/examples/lora_dreambooth/requirements.txt"
      ],
      "metadata": {
        "colab": {
          "base_uri": "https://localhost:8080/"
        },
        "id": "0sdLSfNJeErN",
        "outputId": "105e516c-08b4-412e-91bb-f6f811e17c41"
      },
      "execution_count": 86,
      "outputs": [
        {
          "output_type": "stream",
          "name": "stdout",
          "text": [
            "Requirement already satisfied: transformers in /usr/local/lib/python3.11/dist-packages (from -r ./peft/examples/lora_dreambooth/requirements.txt (line 1)) (4.48.3)\n",
            "Requirement already satisfied: accelerate in /usr/local/lib/python3.11/dist-packages (from -r ./peft/examples/lora_dreambooth/requirements.txt (line 2)) (1.3.0)\n",
            "Requirement already satisfied: evaluate in /usr/local/lib/python3.11/dist-packages (from -r ./peft/examples/lora_dreambooth/requirements.txt (line 3)) (0.4.3)\n",
            "Requirement already satisfied: tqdm in /usr/local/lib/python3.11/dist-packages (from -r ./peft/examples/lora_dreambooth/requirements.txt (line 4)) (4.67.1)\n",
            "Requirement already satisfied: datasets in /usr/local/lib/python3.11/dist-packages (from -r ./peft/examples/lora_dreambooth/requirements.txt (line 5)) (3.3.0)\n",
            "Requirement already satisfied: diffusers in /usr/local/lib/python3.11/dist-packages (from -r ./peft/examples/lora_dreambooth/requirements.txt (line 6)) (0.32.2)\n",
            "Requirement already satisfied: Pillow in /usr/local/lib/python3.11/dist-packages (from -r ./peft/examples/lora_dreambooth/requirements.txt (line 7)) (11.1.0)\n",
            "Requirement already satisfied: torchvision in /usr/local/lib/python3.11/dist-packages (from -r ./peft/examples/lora_dreambooth/requirements.txt (line 8)) (0.20.1+cu124)\n",
            "Requirement already satisfied: huggingface_hub in /usr/local/lib/python3.11/dist-packages (from -r ./peft/examples/lora_dreambooth/requirements.txt (line 9)) (0.28.1)\n",
            "Requirement already satisfied: safetensors in /usr/local/lib/python3.11/dist-packages (from -r ./peft/examples/lora_dreambooth/requirements.txt (line 10)) (0.5.2)\n",
            "Requirement already satisfied: wandb in /usr/local/lib/python3.11/dist-packages (from -r ./peft/examples/lora_dreambooth/requirements.txt (line 11)) (0.19.6)\n",
            "Requirement already satisfied: filelock in /usr/local/lib/python3.11/dist-packages (from transformers->-r ./peft/examples/lora_dreambooth/requirements.txt (line 1)) (3.17.0)\n",
            "Requirement already satisfied: numpy>=1.17 in /usr/local/lib/python3.11/dist-packages (from transformers->-r ./peft/examples/lora_dreambooth/requirements.txt (line 1)) (1.26.4)\n",
            "Requirement already satisfied: packaging>=20.0 in /usr/local/lib/python3.11/dist-packages (from transformers->-r ./peft/examples/lora_dreambooth/requirements.txt (line 1)) (24.2)\n",
            "Requirement already satisfied: pyyaml>=5.1 in /usr/local/lib/python3.11/dist-packages (from transformers->-r ./peft/examples/lora_dreambooth/requirements.txt (line 1)) (6.0.2)\n",
            "Requirement already satisfied: regex!=2019.12.17 in /usr/local/lib/python3.11/dist-packages (from transformers->-r ./peft/examples/lora_dreambooth/requirements.txt (line 1)) (2024.11.6)\n",
            "Requirement already satisfied: requests in /usr/local/lib/python3.11/dist-packages (from transformers->-r ./peft/examples/lora_dreambooth/requirements.txt (line 1)) (2.32.3)\n",
            "Requirement already satisfied: tokenizers<0.22,>=0.21 in /usr/local/lib/python3.11/dist-packages (from transformers->-r ./peft/examples/lora_dreambooth/requirements.txt (line 1)) (0.21.0)\n",
            "Requirement already satisfied: psutil in /usr/local/lib/python3.11/dist-packages (from accelerate->-r ./peft/examples/lora_dreambooth/requirements.txt (line 2)) (5.9.5)\n",
            "Requirement already satisfied: torch>=2.0.0 in /usr/local/lib/python3.11/dist-packages (from accelerate->-r ./peft/examples/lora_dreambooth/requirements.txt (line 2)) (2.5.1+cu124)\n",
            "Requirement already satisfied: dill in /usr/local/lib/python3.11/dist-packages (from evaluate->-r ./peft/examples/lora_dreambooth/requirements.txt (line 3)) (0.3.8)\n",
            "Requirement already satisfied: pandas in /usr/local/lib/python3.11/dist-packages (from evaluate->-r ./peft/examples/lora_dreambooth/requirements.txt (line 3)) (2.2.2)\n",
            "Requirement already satisfied: xxhash in /usr/local/lib/python3.11/dist-packages (from evaluate->-r ./peft/examples/lora_dreambooth/requirements.txt (line 3)) (3.5.0)\n",
            "Requirement already satisfied: multiprocess in /usr/local/lib/python3.11/dist-packages (from evaluate->-r ./peft/examples/lora_dreambooth/requirements.txt (line 3)) (0.70.16)\n",
            "Requirement already satisfied: fsspec>=2021.05.0 in /usr/local/lib/python3.11/dist-packages (from fsspec[http]>=2021.05.0->evaluate->-r ./peft/examples/lora_dreambooth/requirements.txt (line 3)) (2024.10.0)\n",
            "Requirement already satisfied: pyarrow>=15.0.0 in /usr/local/lib/python3.11/dist-packages (from datasets->-r ./peft/examples/lora_dreambooth/requirements.txt (line 5)) (17.0.0)\n",
            "Requirement already satisfied: aiohttp in /usr/local/lib/python3.11/dist-packages (from datasets->-r ./peft/examples/lora_dreambooth/requirements.txt (line 5)) (3.11.12)\n",
            "Requirement already satisfied: importlib-metadata in /usr/local/lib/python3.11/dist-packages (from diffusers->-r ./peft/examples/lora_dreambooth/requirements.txt (line 6)) (8.6.1)\n",
            "Requirement already satisfied: typing-extensions>=4.8.0 in /usr/local/lib/python3.11/dist-packages (from torch>=2.0.0->accelerate->-r ./peft/examples/lora_dreambooth/requirements.txt (line 2)) (4.12.2)\n",
            "Requirement already satisfied: networkx in /usr/local/lib/python3.11/dist-packages (from torch>=2.0.0->accelerate->-r ./peft/examples/lora_dreambooth/requirements.txt (line 2)) (3.4.2)\n",
            "Requirement already satisfied: jinja2 in /usr/local/lib/python3.11/dist-packages (from torch>=2.0.0->accelerate->-r ./peft/examples/lora_dreambooth/requirements.txt (line 2)) (3.1.5)\n",
            "Requirement already satisfied: nvidia-cuda-nvrtc-cu12==12.4.127 in /usr/local/lib/python3.11/dist-packages (from torch>=2.0.0->accelerate->-r ./peft/examples/lora_dreambooth/requirements.txt (line 2)) (12.4.127)\n",
            "Requirement already satisfied: nvidia-cuda-runtime-cu12==12.4.127 in /usr/local/lib/python3.11/dist-packages (from torch>=2.0.0->accelerate->-r ./peft/examples/lora_dreambooth/requirements.txt (line 2)) (12.4.127)\n",
            "Requirement already satisfied: nvidia-cuda-cupti-cu12==12.4.127 in /usr/local/lib/python3.11/dist-packages (from torch>=2.0.0->accelerate->-r ./peft/examples/lora_dreambooth/requirements.txt (line 2)) (12.4.127)\n",
            "Requirement already satisfied: nvidia-cudnn-cu12==9.1.0.70 in /usr/local/lib/python3.11/dist-packages (from torch>=2.0.0->accelerate->-r ./peft/examples/lora_dreambooth/requirements.txt (line 2)) (9.1.0.70)\n",
            "Requirement already satisfied: nvidia-cublas-cu12==12.4.5.8 in /usr/local/lib/python3.11/dist-packages (from torch>=2.0.0->accelerate->-r ./peft/examples/lora_dreambooth/requirements.txt (line 2)) (12.4.5.8)\n",
            "Requirement already satisfied: nvidia-cufft-cu12==11.2.1.3 in /usr/local/lib/python3.11/dist-packages (from torch>=2.0.0->accelerate->-r ./peft/examples/lora_dreambooth/requirements.txt (line 2)) (11.2.1.3)\n",
            "Requirement already satisfied: nvidia-curand-cu12==10.3.5.147 in /usr/local/lib/python3.11/dist-packages (from torch>=2.0.0->accelerate->-r ./peft/examples/lora_dreambooth/requirements.txt (line 2)) (10.3.5.147)\n",
            "Requirement already satisfied: nvidia-cusolver-cu12==11.6.1.9 in /usr/local/lib/python3.11/dist-packages (from torch>=2.0.0->accelerate->-r ./peft/examples/lora_dreambooth/requirements.txt (line 2)) (11.6.1.9)\n",
            "Requirement already satisfied: nvidia-cusparse-cu12==12.3.1.170 in /usr/local/lib/python3.11/dist-packages (from torch>=2.0.0->accelerate->-r ./peft/examples/lora_dreambooth/requirements.txt (line 2)) (12.3.1.170)\n",
            "Requirement already satisfied: nvidia-nccl-cu12==2.21.5 in /usr/local/lib/python3.11/dist-packages (from torch>=2.0.0->accelerate->-r ./peft/examples/lora_dreambooth/requirements.txt (line 2)) (2.21.5)\n",
            "Requirement already satisfied: nvidia-nvtx-cu12==12.4.127 in /usr/local/lib/python3.11/dist-packages (from torch>=2.0.0->accelerate->-r ./peft/examples/lora_dreambooth/requirements.txt (line 2)) (12.4.127)\n",
            "Requirement already satisfied: nvidia-nvjitlink-cu12==12.4.127 in /usr/local/lib/python3.11/dist-packages (from torch>=2.0.0->accelerate->-r ./peft/examples/lora_dreambooth/requirements.txt (line 2)) (12.4.127)\n",
            "Requirement already satisfied: triton==3.1.0 in /usr/local/lib/python3.11/dist-packages (from torch>=2.0.0->accelerate->-r ./peft/examples/lora_dreambooth/requirements.txt (line 2)) (3.1.0)\n",
            "Requirement already satisfied: sympy==1.13.1 in /usr/local/lib/python3.11/dist-packages (from torch>=2.0.0->accelerate->-r ./peft/examples/lora_dreambooth/requirements.txt (line 2)) (1.13.1)\n",
            "Requirement already satisfied: mpmath<1.4,>=1.1.0 in /usr/local/lib/python3.11/dist-packages (from sympy==1.13.1->torch>=2.0.0->accelerate->-r ./peft/examples/lora_dreambooth/requirements.txt (line 2)) (1.3.0)\n",
            "Requirement already satisfied: click!=8.0.0,>=7.1 in /usr/local/lib/python3.11/dist-packages (from wandb->-r ./peft/examples/lora_dreambooth/requirements.txt (line 11)) (8.1.8)\n",
            "Requirement already satisfied: docker-pycreds>=0.4.0 in /usr/local/lib/python3.11/dist-packages (from wandb->-r ./peft/examples/lora_dreambooth/requirements.txt (line 11)) (0.4.0)\n",
            "Requirement already satisfied: gitpython!=3.1.29,>=1.0.0 in /usr/local/lib/python3.11/dist-packages (from wandb->-r ./peft/examples/lora_dreambooth/requirements.txt (line 11)) (3.1.44)\n",
            "Requirement already satisfied: platformdirs in /usr/local/lib/python3.11/dist-packages (from wandb->-r ./peft/examples/lora_dreambooth/requirements.txt (line 11)) (4.3.6)\n",
            "Requirement already satisfied: protobuf!=4.21.0,!=5.28.0,<6,>=3.19.0 in /usr/local/lib/python3.11/dist-packages (from wandb->-r ./peft/examples/lora_dreambooth/requirements.txt (line 11)) (4.25.6)\n",
            "Requirement already satisfied: pydantic<3,>=2.6 in /usr/local/lib/python3.11/dist-packages (from wandb->-r ./peft/examples/lora_dreambooth/requirements.txt (line 11)) (2.10.6)\n",
            "Requirement already satisfied: sentry-sdk>=2.0.0 in /usr/local/lib/python3.11/dist-packages (from wandb->-r ./peft/examples/lora_dreambooth/requirements.txt (line 11)) (2.21.0)\n",
            "Requirement already satisfied: setproctitle in /usr/local/lib/python3.11/dist-packages (from wandb->-r ./peft/examples/lora_dreambooth/requirements.txt (line 11)) (1.3.4)\n",
            "Requirement already satisfied: setuptools in /usr/local/lib/python3.11/dist-packages (from wandb->-r ./peft/examples/lora_dreambooth/requirements.txt (line 11)) (75.1.0)\n",
            "Requirement already satisfied: six>=1.4.0 in /usr/local/lib/python3.11/dist-packages (from docker-pycreds>=0.4.0->wandb->-r ./peft/examples/lora_dreambooth/requirements.txt (line 11)) (1.17.0)\n",
            "Requirement already satisfied: aiohappyeyeballs>=2.3.0 in /usr/local/lib/python3.11/dist-packages (from aiohttp->datasets->-r ./peft/examples/lora_dreambooth/requirements.txt (line 5)) (2.4.6)\n",
            "Requirement already satisfied: aiosignal>=1.1.2 in /usr/local/lib/python3.11/dist-packages (from aiohttp->datasets->-r ./peft/examples/lora_dreambooth/requirements.txt (line 5)) (1.3.2)\n",
            "Requirement already satisfied: attrs>=17.3.0 in /usr/local/lib/python3.11/dist-packages (from aiohttp->datasets->-r ./peft/examples/lora_dreambooth/requirements.txt (line 5)) (25.1.0)\n",
            "Requirement already satisfied: frozenlist>=1.1.1 in /usr/local/lib/python3.11/dist-packages (from aiohttp->datasets->-r ./peft/examples/lora_dreambooth/requirements.txt (line 5)) (1.5.0)\n",
            "Requirement already satisfied: multidict<7.0,>=4.5 in /usr/local/lib/python3.11/dist-packages (from aiohttp->datasets->-r ./peft/examples/lora_dreambooth/requirements.txt (line 5)) (6.1.0)\n",
            "Requirement already satisfied: propcache>=0.2.0 in /usr/local/lib/python3.11/dist-packages (from aiohttp->datasets->-r ./peft/examples/lora_dreambooth/requirements.txt (line 5)) (0.2.1)\n",
            "Requirement already satisfied: yarl<2.0,>=1.17.0 in /usr/local/lib/python3.11/dist-packages (from aiohttp->datasets->-r ./peft/examples/lora_dreambooth/requirements.txt (line 5)) (1.18.3)\n",
            "Requirement already satisfied: gitdb<5,>=4.0.1 in /usr/local/lib/python3.11/dist-packages (from gitpython!=3.1.29,>=1.0.0->wandb->-r ./peft/examples/lora_dreambooth/requirements.txt (line 11)) (4.0.12)\n",
            "Requirement already satisfied: annotated-types>=0.6.0 in /usr/local/lib/python3.11/dist-packages (from pydantic<3,>=2.6->wandb->-r ./peft/examples/lora_dreambooth/requirements.txt (line 11)) (0.7.0)\n",
            "Requirement already satisfied: pydantic-core==2.27.2 in /usr/local/lib/python3.11/dist-packages (from pydantic<3,>=2.6->wandb->-r ./peft/examples/lora_dreambooth/requirements.txt (line 11)) (2.27.2)\n",
            "Requirement already satisfied: charset-normalizer<4,>=2 in /usr/local/lib/python3.11/dist-packages (from requests->transformers->-r ./peft/examples/lora_dreambooth/requirements.txt (line 1)) (3.4.1)\n",
            "Requirement already satisfied: idna<4,>=2.5 in /usr/local/lib/python3.11/dist-packages (from requests->transformers->-r ./peft/examples/lora_dreambooth/requirements.txt (line 1)) (3.10)\n",
            "Requirement already satisfied: urllib3<3,>=1.21.1 in /usr/local/lib/python3.11/dist-packages (from requests->transformers->-r ./peft/examples/lora_dreambooth/requirements.txt (line 1)) (2.3.0)\n",
            "Requirement already satisfied: certifi>=2017.4.17 in /usr/local/lib/python3.11/dist-packages (from requests->transformers->-r ./peft/examples/lora_dreambooth/requirements.txt (line 1)) (2025.1.31)\n",
            "Requirement already satisfied: zipp>=3.20 in /usr/local/lib/python3.11/dist-packages (from importlib-metadata->diffusers->-r ./peft/examples/lora_dreambooth/requirements.txt (line 6)) (3.21.0)\n",
            "Requirement already satisfied: python-dateutil>=2.8.2 in /usr/local/lib/python3.11/dist-packages (from pandas->evaluate->-r ./peft/examples/lora_dreambooth/requirements.txt (line 3)) (2.8.2)\n",
            "Requirement already satisfied: pytz>=2020.1 in /usr/local/lib/python3.11/dist-packages (from pandas->evaluate->-r ./peft/examples/lora_dreambooth/requirements.txt (line 3)) (2025.1)\n",
            "Requirement already satisfied: tzdata>=2022.7 in /usr/local/lib/python3.11/dist-packages (from pandas->evaluate->-r ./peft/examples/lora_dreambooth/requirements.txt (line 3)) (2025.1)\n",
            "Requirement already satisfied: smmap<6,>=3.0.1 in /usr/local/lib/python3.11/dist-packages (from gitdb<5,>=4.0.1->gitpython!=3.1.29,>=1.0.0->wandb->-r ./peft/examples/lora_dreambooth/requirements.txt (line 11)) (5.0.2)\n",
            "Requirement already satisfied: MarkupSafe>=2.0 in /usr/local/lib/python3.11/dist-packages (from jinja2->torch>=2.0.0->accelerate->-r ./peft/examples/lora_dreambooth/requirements.txt (line 2)) (3.0.2)\n"
          ]
        }
      ]
    },
    {
      "cell_type": "code",
      "source": [
        "import os\n",
        "\n",
        "import json\n",
        "\n",
        "import pandas as pd\n",
        "from pathlib import Path\n",
        "from google.colab import drive\n",
        "import cv2\n",
        "from google.colab.patches import cv2_imshow\n",
        "\n",
        "import wandb\n",
        "\n",
        "drive.mount('/content/drive')"
      ],
      "metadata": {
        "colab": {
          "base_uri": "https://localhost:8080/"
        },
        "id": "kwM9HLYkeLUI",
        "outputId": "c872e14b-414c-4c55-8bdb-1f6a4f20b767"
      },
      "execution_count": 87,
      "outputs": [
        {
          "output_type": "stream",
          "name": "stdout",
          "text": [
            "Drive already mounted at /content/drive; to attempt to forcibly remount, call drive.mount(\"/content/drive\", force_remount=True).\n"
          ]
        }
      ]
    },
    {
      "cell_type": "code",
      "source": [
        "DIR = '/content/drive/MyDrive/dino'\n",
        "\n",
        "PATH_IMAGES = '/content/drive/MyDrive/dino/imgs'\n",
        "PATH_PROMPT = '/content/drive/MyDrive/dino/train.csv'\n",
        "PATH_DREAMBOOTH = '/content/drive/MyDrive/dreambooth/train_dreambooth.py'\n",
        "PATH_OUTPUT = '/content/drive/MyDrive/dino/output'\n",
        "\n",
        "WANDB_API_KEY= '/content/drive/MyDrive/ssh/wandbkey.txt'\n",
        "\n",
        "with open(WANDB_API_KEY, 'r') as file:\n",
        "    wandb_key = file.read().strip()"
      ],
      "metadata": {
        "id": "-Eja2dUDepqE"
      },
      "execution_count": 88,
      "outputs": []
    },
    {
      "cell_type": "code",
      "source": [
        "# для colab не работает :(\n",
        "os.environ['PATH_DREAMBOOTH'] = PATH_DREAMBOOTH\n",
        "os.environ['PATH_IMAGES'] = PATH_IMAGES\n",
        "os.environ['PATH_OUTPUT'] = PATH_OUTPUT\n",
        "os.environ['PATH_PROMPT'] = PATH_PROMPT\n",
        "os.environ['WANDB_KEY'] = WANDB_API_KEY"
      ],
      "metadata": {
        "id": "jzoyO_X-Kxwf"
      },
      "execution_count": 100,
      "outputs": []
    },
    {
      "cell_type": "code",
      "source": [
        "wandb.login(key=wandb_key)"
      ],
      "metadata": {
        "colab": {
          "base_uri": "https://localhost:8080/"
        },
        "id": "eoV8obdX4SBw",
        "outputId": "a78315e5-2e31-4fa5-e433-674f902e8bb7"
      },
      "execution_count": 89,
      "outputs": [
        {
          "output_type": "stream",
          "name": "stderr",
          "text": [
            "\u001b[34m\u001b[1mwandb\u001b[0m: \u001b[33mWARNING\u001b[0m Calling wandb.login() after wandb.init() has no effect.\n"
          ]
        },
        {
          "output_type": "execute_result",
          "data": {
            "text/plain": [
              "True"
            ]
          },
          "metadata": {},
          "execution_count": 89
        }
      ]
    },
    {
      "cell_type": "code",
      "source": [
        "run = wandb.init(\n",
        "    # Set the project where this run will be logged\n",
        "    project=\"stickers\",\n",
        "    # Track hyperparameters and run metadata\n",
        "    config={},\n",
        ")"
      ],
      "metadata": {
        "colab": {
          "base_uri": "https://localhost:8080/",
          "height": 34
        },
        "id": "tRd1B9LcfZ-1",
        "outputId": "9759ab5b-50f7-41ad-f401-b7e8b1f9ac07"
      },
      "execution_count": 90,
      "outputs": [
        {
          "output_type": "display_data",
          "data": {
            "text/plain": [
              "<IPython.core.display.HTML object>"
            ],
            "text/html": [
              "Changes to your `wandb` environment variables will be ignored because your `wandb` session has already started. For more information on how to modify your settings with `wandb.init()` arguments, please refer to <a href='https://wandb.me/wandb-init' target=\"_blank\">the W&B docs</a>."
            ]
          },
          "metadata": {}
        }
      ]
    },
    {
      "cell_type": "markdown",
      "source": [
        "### 2.Загружаем данные\n"
      ],
      "metadata": {
        "id": "vXms9UEV5lFS"
      }
    },
    {
      "cell_type": "code",
      "source": [
        "# path_to_json = os.path.join(DIR, \"clear_labels.json\")\n",
        "\n",
        "\n",
        "# with open(path_to_json, 'r') as f:\n",
        "#     all_clear_captions = json.load(f)"
      ],
      "metadata": {
        "id": "_QoEReTz8m2c"
      },
      "execution_count": 57,
      "outputs": []
    },
    {
      "cell_type": "code",
      "source": [
        "prompts = pd.read_csv(PATH_PROMPT, index_col=['Unnamed: 0'])\n",
        "prompts.head()\n",
        "\n",
        "prompts['prompt'] = prompts['prompt'].apply(lambda x: 'Sticker with unusual dinosaurs' + x[0].lower() + x[1:])"
      ],
      "metadata": {
        "id": "ju8Qw4fA5okM"
      },
      "execution_count": 77,
      "outputs": []
    },
    {
      "cell_type": "code",
      "source": [
        "prompts.loc[1, 'prompt']"
      ],
      "metadata": {
        "colab": {
          "base_uri": "https://localhost:8080/",
          "height": 87
        },
        "id": "5UAjqJqUAFd_",
        "outputId": "042c88d0-026c-481d-e2da-4a9d11dfc41d"
      },
      "execution_count": 103,
      "outputs": [
        {
          "output_type": "execute_result",
          "data": {
            "text/plain": [
              "'Sticker with unusual dinosaursthe image features a person wearing a black top hat and a dinosaur mask. The mask is designed to look like a Tyrannosaurus Rex, with a wide-open mouth and sharp teeth. The person is also making a gesture with their hands, which could be interpreted as a celebratory or enthusiastic expression. The background is blurred, but it appears to be a collage of various images, possibly to create a dynamic or artistic effect. The text \"[RUS] !\" suggests that the image is likely meant to be humorous or satirical, possibly referencing a phrase or a theme that is not immediately clear from the image alone.'"
            ],
            "application/vnd.google.colaboratory.intrinsic+json": {
              "type": "string"
            }
          },
          "metadata": {},
          "execution_count": 103
        }
      ]
    },
    {
      "cell_type": "markdown",
      "source": [
        "### 3.Запуск экспериментов"
      ],
      "metadata": {
        "id": "17q5n9SSCZ_H"
      }
    },
    {
      "cell_type": "code",
      "source": [
        "#  !accelerate launch '/content/drive/MyDrive/dreambooth/train_dreambooth.py' \\\n",
        "#   --pretrained_model_name_or_path=\"CompVis/stable-diffusion-v1-4\"  \\\n",
        "#   --instance_data_dir='/content/drive/MyDrive/dino/imgs' \\\n",
        "#   --output_dir='/content/drive/MyDrive/dino/output' \\\n",
        "#   --instance_prompt_path='/content/drive/MyDrive/dino/train.csv' \\\n",
        "#   --num_validation_images=4 \\\n",
        "#   --validation_prompt='Sticker with unusual dinosaursthe wearing a black top hat' \\\n",
        "#   --seed=42 \\\n",
        "#   --resolution=512 \\\n",
        "#   --train_batch_size=4 \\\n",
        "#   --scale_lr \\\n",
        "#   --num_dataloader_workers=4 \\\n",
        "#   --lr_scheduler=\"constant\" \\\n",
        "#   --use_lora \\\n",
        "#   --lora_r=16 \\\n",
        "#   --lora_alpha=32 \\\n",
        "#   --learning_rate=1e-4 \\\n",
        "#   --max_train_steps=800 \\\n",
        "#   --report_to='$wandb_key' \\\n",
        "#   --wandb_key=wandb_token \\\n",
        "#   --wandb_project_name='stickers'"
      ],
      "metadata": {
        "colab": {
          "base_uri": "https://localhost:8080/"
        },
        "id": "uW8xyTVKCZQz",
        "outputId": "8298bfd5-35e5-4ea0-94a8-520503ebda89"
      },
      "execution_count": 102,
      "outputs": [
        {
          "output_type": "stream",
          "name": "stdout",
          "text": [
            "The following values were not passed to `accelerate launch` and had defaults used instead:\n",
            "\t`--num_processes` was set to a value of `0`\n",
            "\t`--num_machines` was set to a value of `1`\n",
            "\t`--mixed_precision` was set to a value of `'no'`\n",
            "\t`--dynamo_backend` was set to a value of `'no'`\n",
            "To avoid this warning pass in values for each of the problematic parameters or run `accelerate config`.\n",
            "2025-02-16 19:16:03.140362: E external/local_xla/xla/stream_executor/cuda/cuda_fft.cc:477] Unable to register cuFFT factory: Attempting to register factory for plugin cuFFT when one has already been registered\n",
            "WARNING: All log messages before absl::InitializeLog() is called are written to STDERR\n",
            "E0000 00:00:1739733363.173930   49272 cuda_dnn.cc:8310] Unable to register cuDNN factory: Attempting to register factory for plugin cuDNN when one has already been registered\n",
            "E0000 00:00:1739733363.184137   49272 cuda_blas.cc:1418] Unable to register cuBLAS factory: Attempting to register factory for plugin cuBLAS when one has already been registered\n",
            "2025-02-16 19:16:03.221127: I tensorflow/core/platform/cpu_feature_guard.cc:210] This TensorFlow binary is optimized to use available CPU instructions in performance-critical operations.\n",
            "To enable the following instructions: AVX2 FMA, in other operations, rebuild TensorFlow with the appropriate compiler flags.\n",
            "usage: train_dreambooth.py [-h] --pretrained_model_name_or_path PRETRAINED_MODEL_NAME_OR_PATH\n",
            "                           [--revision REVISION] [--tokenizer_name TOKENIZER_NAME]\n",
            "                           --instance_data_dir INSTANCE_DATA_DIR [--class_data_dir CLASS_DATA_DIR]\n",
            "                           --instance_prompt INSTANCE_PROMPT [--class_prompt CLASS_PROMPT]\n",
            "                           [--with_prior_preservation] [--prior_loss_weight PRIOR_LOSS_WEIGHT]\n",
            "                           [--num_class_images NUM_CLASS_IMAGES]\n",
            "                           [--validation_prompt VALIDATION_PROMPT]\n",
            "                           [--num_validation_images NUM_VALIDATION_IMAGES]\n",
            "                           [--validation_steps VALIDATION_STEPS] [--output_dir OUTPUT_DIR]\n",
            "                           [--seed SEED] [--resolution RESOLUTION] [--center_crop]\n",
            "                           [--train_text_encoder] [--use_lora] [--lora_r LORA_R]\n",
            "                           [--lora_alpha LORA_ALPHA] [--lora_dropout LORA_DROPOUT]\n",
            "                           [--lora_bias LORA_BIAS] [--lora_text_encoder_r LORA_TEXT_ENCODER_R]\n",
            "                           [--lora_text_encoder_alpha LORA_TEXT_ENCODER_ALPHA]\n",
            "                           [--lora_text_encoder_dropout LORA_TEXT_ENCODER_DROPOUT]\n",
            "                           [--lora_text_encoder_bias LORA_TEXT_ENCODER_BIAS]\n",
            "                           [--num_dataloader_workers NUM_DATALOADER_WORKERS] [--no_tracemalloc]\n",
            "                           [--train_batch_size TRAIN_BATCH_SIZE]\n",
            "                           [--sample_batch_size SAMPLE_BATCH_SIZE]\n",
            "                           [--num_train_epochs NUM_TRAIN_EPOCHS]\n",
            "                           [--max_train_steps MAX_TRAIN_STEPS]\n",
            "                           [--checkpointing_steps CHECKPOINTING_STEPS]\n",
            "                           [--resume_from_checkpoint RESUME_FROM_CHECKPOINT]\n",
            "                           [--gradient_accumulation_steps GRADIENT_ACCUMULATION_STEPS]\n",
            "                           [--gradient_checkpointing] [--learning_rate LEARNING_RATE] [--scale_lr]\n",
            "                           [--lr_scheduler LR_SCHEDULER] [--lr_warmup_steps LR_WARMUP_STEPS]\n",
            "                           [--lr_num_cycles LR_NUM_CYCLES] [--lr_power LR_POWER] [--use_8bit_adam]\n",
            "                           [--adam_beta1 ADAM_BETA1] [--adam_beta2 ADAM_BETA2]\n",
            "                           [--adam_weight_decay ADAM_WEIGHT_DECAY] [--adam_epsilon ADAM_EPSILON]\n",
            "                           [--max_grad_norm MAX_GRAD_NORM] [--push_to_hub] [--hub_token HUB_TOKEN]\n",
            "                           [--hub_model_id HUB_MODEL_ID] [--logging_dir LOGGING_DIR]\n",
            "                           [--allow_tf32] [--report_to REPORT_TO] [--wandb_key WANDB_KEY]\n",
            "                           [--wandb_project_name WANDB_PROJECT_NAME]\n",
            "                           [--mixed_precision {no,fp16,bf16}]\n",
            "                           [--prior_generation_precision {no,fp32,fp16,bf16}]\n",
            "                           [--local_rank LOCAL_RANK]\n",
            "                           [--enable_xformers_memory_efficient_attention]\n",
            "train_dreambooth.py: error: the following arguments are required: --instance_prompt\n",
            "Traceback (most recent call last):\n",
            "  File \"/usr/local/bin/accelerate\", line 10, in <module>\n",
            "    sys.exit(main())\n",
            "             ^^^^^^\n",
            "  File \"/usr/local/lib/python3.11/dist-packages/accelerate/commands/accelerate_cli.py\", line 48, in main\n",
            "    args.func(args)\n",
            "  File \"/usr/local/lib/python3.11/dist-packages/accelerate/commands/launch.py\", line 1172, in launch_command\n",
            "    simple_launcher(args)\n",
            "  File \"/usr/local/lib/python3.11/dist-packages/accelerate/commands/launch.py\", line 762, in simple_launcher\n",
            "    raise subprocess.CalledProcessError(returncode=process.returncode, cmd=cmd)\n",
            "subprocess.CalledProcessError: Command '['/usr/bin/python3', '/content/drive/MyDrive/dreambooth/train_dreambooth.py', '--pretrained_model_name_or_path=CompVis/stable-diffusion-v1-4', '--instance_data_dir=/content/drive/MyDrive/dino/imgs', '--output_dir=/content/drive/MyDrive/dino/output', '--instance_prompt_path=/content/drive/MyDrive/dino/train.csv', '--num_validation_images=4', '--validation_prompt=Sticker with unusual dinosaursthe wearing a black top hat', '--seed=42', '--resolution=512', '--train_batch_size=4', '--scale_lr', '--num_dataloader_workers=4', '--lr_scheduler=constant', '--use_lora', '--lora_r=16', '--lora_alpha=32', '--learning_rate=1e-4', '--max_train_steps=800', '--report_to=$wandb_key', '--wandb_key=wandb_token', '--wandb_project_name=stickers']' returned non-zero exit status 2.\n"
          ]
        }
      ]
    },
    {
      "cell_type": "code",
      "source": [
        "!accelerate launch '/content/drive/MyDrive/dreambooth/train_dreambooth.py' \\\n",
        "  --pretrained_model_name_or_path=\"CompVis/stable-diffusion-v1-4\" \\\n",
        "  --instance_data_dir='/content/drive/MyDrive/dino/imgs' \\\n",
        "  --output_dir='/content/drive/MyDrive/dino/output' \\\n",
        "  --train_text_encoder \\\n",
        "  --num_dataloader_workers=1 \\\n",
        "  --resolution=512 \\\n",
        "  --train_batch_size=4 \\\n",
        "  --lr_scheduler=\"constant\" \\\n",
        "  --lr_warmup_steps=0 \\\n",
        "  --use_lora \\\n",
        "  --lora_r=16 \\\n",
        "  --lora_alpha=32 \\\n",
        "  --lora_text_encoder_r=16 \\\n",
        "  --lora_text_encoder_alpha=17 \\\n",
        "  --learning_rate=5e-5 \\\n",
        "  --gradient_accumulation_steps=1 \\\n",
        "  --gradient_checkpointing \\\n",
        "  --mixed_precision=\"fp16\" \\\n",
        "  --max_train_steps=2000 \\\n",
        "  --report_to=\"wandb\" \\\n",
        "  --wandb_key=wandb_key \\\n",
        "  --wandb_project_name=\"stickers\" \\\n",
        "  --num_validation_images=10 \\\n",
        "  --validation_prompt=\"Sticker with unusual dinosaursthe wearing a black top hat\""
      ],
      "metadata": {
        "colab": {
          "base_uri": "https://localhost:8080/"
        },
        "id": "jn_uJGO2Oi67",
        "outputId": "3c2a374d-08da-4115-d6a5-9dd5c9ac836b"
      },
      "execution_count": 107,
      "outputs": [
        {
          "output_type": "stream",
          "name": "stdout",
          "text": [
            "The following values were not passed to `accelerate launch` and had defaults used instead:\n",
            "\t`--num_processes` was set to a value of `0`\n",
            "\t`--num_machines` was set to a value of `1`\n",
            "\t`--mixed_precision` was set to a value of `'no'`\n",
            "\t`--dynamo_backend` was set to a value of `'no'`\n",
            "To avoid this warning pass in values for each of the problematic parameters or run `accelerate config`.\n",
            "2025-02-16 19:46:49.749593: E external/local_xla/xla/stream_executor/cuda/cuda_fft.cc:477] Unable to register cuFFT factory: Attempting to register factory for plugin cuFFT when one has already been registered\n",
            "WARNING: All log messages before absl::InitializeLog() is called are written to STDERR\n",
            "E0000 00:00:1739735209.794664   56774 cuda_dnn.cc:8310] Unable to register cuDNN factory: Attempting to register factory for plugin cuDNN when one has already been registered\n",
            "E0000 00:00:1739735209.809059   56774 cuda_blas.cc:1418] Unable to register cuBLAS factory: Attempting to register factory for plugin cuBLAS when one has already been registered\n",
            "2025-02-16 19:46:49.847809: I tensorflow/core/platform/cpu_feature_guard.cc:210] This TensorFlow binary is optimized to use available CPU instructions in performance-critical operations.\n",
            "To enable the following instructions: AVX2 FMA, in other operations, rebuild TensorFlow with the appropriate compiler flags.\n",
            "Traceback (most recent call last):\n",
            "  File \"/content/drive/MyDrive/dreambooth/train_dreambooth.py\", line 976, in <module>\n",
            "    main(args)\n",
            "  File \"/content/drive/MyDrive/dreambooth/train_dreambooth.py\", line 537, in main\n",
            "    wandb.login(key=args.wandb_key)\n",
            "  File \"/usr/local/lib/python3.11/dist-packages/wandb/sdk/wandb_login.py\", line 76, in login\n",
            "    return _login(\n",
            "           ^^^^^^^\n",
            "  File \"/usr/local/lib/python3.11/dist-packages/wandb/sdk/wandb_login.py\", line 308, in _login\n",
            "    wlogin.configure_api_key(key)\n",
            "  File \"/usr/local/lib/python3.11/dist-packages/wandb/sdk/wandb_login.py\", line 175, in configure_api_key\n",
            "    apikey.write_key(self._settings, key)\n",
            "  File \"/usr/local/lib/python3.11/dist-packages/wandb/sdk/lib/apikey.py\", line 241, in write_key\n",
            "    raise ValueError(\n",
            "ValueError: API key must be 40 characters long, yours was 9\n",
            "Traceback (most recent call last):\n",
            "  File \"/usr/local/bin/accelerate\", line 10, in <module>\n",
            "    sys.exit(main())\n",
            "             ^^^^^^\n",
            "  File \"/usr/local/lib/python3.11/dist-packages/accelerate/commands/accelerate_cli.py\", line 48, in main\n",
            "    args.func(args)\n",
            "  File \"/usr/local/lib/python3.11/dist-packages/accelerate/commands/launch.py\", line 1172, in launch_command\n",
            "    simple_launcher(args)\n",
            "  File \"/usr/local/lib/python3.11/dist-packages/accelerate/commands/launch.py\", line 762, in simple_launcher\n",
            "    raise subprocess.CalledProcessError(returncode=process.returncode, cmd=cmd)\n",
            "subprocess.CalledProcessError: Command '['/usr/bin/python3', '/content/drive/MyDrive/dreambooth/train_dreambooth.py', '--pretrained_model_name_or_path=CompVis/stable-diffusion-v1-4', '--instance_data_dir=/content/drive/MyDrive/dino/imgs', '--output_dir=/content/drive/MyDrive/dino/output', '--train_text_encoder', '--num_dataloader_workers=1', '--resolution=512', '--train_batch_size=4', '--lr_scheduler=constant', '--lr_warmup_steps=0', '--use_lora', '--lora_r=16', '--lora_alpha=32', '--lora_text_encoder_r=16', '--lora_text_encoder_alpha=17', '--learning_rate=5e-5', '--gradient_accumulation_steps=1', '--gradient_checkpointing', '--mixed_precision=fp16', '--max_train_steps=2000', '--report_to=wandb', '--wandb_key=wandb_key', '--wandb_project_name=stickers', '--num_validation_images=10', '--validation_prompt=Sticker with unusual dinosaursthe wearing a black top hat']' returned non-zero exit status 1.\n"
          ]
        }
      ]
    }
  ]
}