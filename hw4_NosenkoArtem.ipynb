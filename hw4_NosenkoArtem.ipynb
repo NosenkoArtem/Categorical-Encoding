{
  "cells": [
    {
      "cell_type": "markdown",
      "metadata": {
        "id": "view-in-github",
        "colab_type": "text"
      },
      "source": [
        "<a href=\"https://colab.research.google.com/github/NosenkoArtem/Categorical-Encoding/blob/master/hw4_NosenkoArtem.ipynb\" target=\"_parent\"><img src=\"https://colab.research.google.com/assets/colab-badge.svg\" alt=\"Open In Colab\"/></a>"
      ]
    },
    {
      "cell_type": "markdown",
      "metadata": {
        "id": "xXUMzcKXAe-t"
      },
      "source": [
        "# Домашние задание: введение в LLM 2\n",
        "\n",
        "В этом домашнем задании мы разберем более современные архитектурные модификации LLM такие как RoPE, RMSNorm и обучим свою мини-LLM с нуля"
      ]
    },
    {
      "cell_type": "markdown",
      "metadata": {
        "id": "aFd4gLTldVdQ",
        "jp-MarkdownHeadingCollapsed": true
      },
      "source": [
        "## Скачиваем данные"
      ]
    },
    {
      "cell_type": "code",
      "execution_count": null,
      "metadata": {
        "id": "Gmf-HyiWAe-u"
      },
      "outputs": [],
      "source": [
        "! wget https://raw.githubusercontent.com/karpathy/char-rnn/master/data/tinyshakespeare/input.txt"
      ]
    },
    {
      "cell_type": "code",
      "execution_count": null,
      "metadata": {
        "id": "WbhRahnmAe-u",
        "scrolled": true
      },
      "outputs": [],
      "source": [
        "! pip install jaxtyping==0.2.34 transformers==4.48.2"
      ]
    },
    {
      "cell_type": "code",
      "execution_count": null,
      "metadata": {
        "id": "V0_q9RgkAe-u"
      },
      "outputs": [],
      "source": [
        "import sys\n",
        "import torch\n",
        "from torch import Tensor\n",
        "import torch.nn as nn\n",
        "import numpy as np\n",
        "import math\n",
        "from tqdm.notebook import tqdm\n",
        "from typing import Tuple, List, Optional, Dict, Callable\n",
        "from jaxtyping import Float, Int\n",
        "from transformers import AutoTokenizer"
      ]
    },
    {
      "cell_type": "code",
      "execution_count": null,
      "metadata": {
        "id": "r0F_eNOwAe-v"
      },
      "outputs": [],
      "source": [
        "device = torch.device(\"cuda\") if torch.cuda.is_available() else torch.device(\"cpu\")"
      ]
    },
    {
      "cell_type": "markdown",
      "metadata": {
        "id": "ShmayLkUAe-v"
      },
      "source": [
        "# Подготовка данных - 15 баллов\n",
        "\n",
        "У нас есть текст пьесы Шекспира"
      ]
    },
    {
      "cell_type": "code",
      "execution_count": null,
      "metadata": {
        "id": "Iy1HnnYUAe-v"
      },
      "outputs": [],
      "source": [
        "with open(\"input.txt\") as fin:\n",
        "    text = fin.read()\n",
        "\n",
        "print(text[:200])"
      ]
    },
    {
      "cell_type": "markdown",
      "metadata": {
        "id": "X-MY46CLAe-v"
      },
      "source": [
        "Создаем токенайзер, обратите внимание, что у токена there должен быть вначале спецсимвол, обозначающий, что это новое слово, а не часть предыдущего!"
      ]
    },
    {
      "cell_type": "code",
      "execution_count": null,
      "metadata": {
        "id": "5oYGENv4Ae-v"
      },
      "outputs": [],
      "source": [
        "tokenizer = AutoTokenizer.from_pretrained(\"openai-community/gpt2\")\n",
        "print(tokenizer.tokenize(\"Hello there sometrashtoken\"))\n",
        "print(tokenizer.eos_token)"
      ]
    },
    {
      "cell_type": "markdown",
      "metadata": {
        "id": "rvG3nmMWAe-v"
      },
      "source": [
        "В токенайзере нет спецтокена под паддинг, поэтому выставим PAD_TOKEN = EOS_TOKEN"
      ]
    },
    {
      "cell_type": "code",
      "execution_count": null,
      "metadata": {
        "id": "MWFwF_AUAe-w"
      },
      "outputs": [],
      "source": [
        "tokenizer.pad_token = tokenizer.eos_token\n",
        "tokenizer.pad_token_id = tokenizer.eos_token_id"
      ]
    },
    {
      "cell_type": "markdown",
      "metadata": {
        "id": "yEgfc1KaAe-w"
      },
      "source": [
        "## Датасет - 5 баллов\n",
        "\n",
        "Нам нужен Dataset - что-то, что будет держать данные.\n",
        "Почитать подробнее можно в [документации](https://pytorch.org/docs/stable/data.html#torch.utils.data.Dataset) или на [примерах](https://pytorch.org/tutorials/beginner/basics/data_tutorial.html).\n",
        "\n",
        "\n",
        "Если кратко:\n",
        "* Dataset должен реализовывать 2 метода: `__getitem__` для получения сэмплов и `__len__` для получения длины датасета\n",
        "* Нужна функция collate_fn - она будет собирать несколько сэмплов из датасета в один батч\n",
        "* Нужен DataLoader - объект, который будет брать объекты из датасета и с помощью collate_fn возвращать батчи\n",
        "* Нужен Sampler - объект, который помогает DataLoader выбирать батчи. В нашем случае это будет просто рандом, но можно собирать сэмплы по одинаковой длине или упорядочить в зависимости от задачи.\n",
        "\n",
        "\n",
        "Начнем с Dataset. В нем нужно дописать 3 функции, самая важная конструктор `__init__`:\n",
        "1. Принимает корпус текста\n",
        "2. Токенизирует его весь\n",
        "2. Бьем текст на непересекающиеся окна размером 200-300 токенов (длину определяем с помощью random.randint)\n",
        "3. Кладет токены в self.texts полученный List\\[int\\], то есть уже векторизованные тексты"
      ]
    },
    {
      "cell_type": "code",
      "execution_count": null,
      "metadata": {
        "id": "1p8O1_VGAe-w"
      },
      "outputs": [],
      "source": [
        "from typing import List\n",
        "import random\n",
        "from torch.utils.data import Dataset, DataLoader\n",
        "\n",
        "\n",
        "class MyDataset(Dataset):\n",
        "\n",
        "    def __init__(self, tokenizer: AutoTokenizer, text: str):\n",
        "        self.tokenizer = tokenizer\n",
        "        self.texts = []\n",
        "        random.seed(1)\n",
        "\n",
        "        # ---- Ваш код здесь ----\n",
        "        raise NotImplemented()\n",
        "        # ---- Конец кода ----\n",
        "\n",
        "\n",
        "\n",
        "    def __getitem__(self, index) -> List[int]:\n",
        "        return self.texts[index]\n",
        "\n",
        "\n",
        "    def __len__(self) -> int:\n",
        "        return len(self.texts)\n",
        "\n",
        "\n",
        "dataset = MyDataset(tokenizer, text)\n",
        "\n",
        "sample_0 = dataset.tokenizer.decode(dataset[0])\n",
        "\n",
        "assert sample_0.startswith(text[:100])\n",
        "\n",
        "print(sample_0)"
      ]
    },
    {
      "cell_type": "markdown",
      "metadata": {
        "id": "MWjLvpw5Ae-w"
      },
      "source": [
        "## Collate FN - 5 баллов\n",
        "Функция сборки, она же collate_fn. Она принимает батч сэмплов, т.е. список объектов, которые нам возвращает датасет!\n",
        "Она должна принимать `List[List[int]]` батч объектов и возвращать 2 тензора:\n",
        "\n",
        "* input_ids - `[batch, seq_len]` - батч токенов, в котором добавлены паддинги до максимальной длины в **текущем батче**.\n",
        "* mask - `[batch, seq_len]` - батч масок. На позиции `[i, j]` стоит 0, если токен является паддингом, иначе 1.\n",
        "\n",
        "В качестве значения паддинга для input_ids используйте `tokenizer.pad_token_id`"
      ]
    },
    {
      "cell_type": "code",
      "execution_count": null,
      "metadata": {
        "id": "AizeF272Ae-w"
      },
      "outputs": [],
      "source": [
        "def collate_fn(batch: List[List[int]]) -> Tuple[torch.LongTensor, torch.LongTensor]:\n",
        "\n",
        "    # ---- Ваш код здесь ----\n",
        "    raise NotImplemented()\n",
        "    # ---- Конец кода ----\n",
        "\n",
        "\n",
        "\n",
        "batch = [\n",
        "    [1, 2, 3, 4],\n",
        "    [1, 2],\n",
        "    [1, 2, 3, 4, 5, 6, 7],\n",
        "]\n",
        "input_ids_ref = torch.LongTensor([\n",
        "    [1, 2, 3, 4, 50256, 50256, 50256],\n",
        "    [1, 2, 50256, 50256, 50256, 50256, 50256],\n",
        "    [1, 2, 3, 4, 5, 6, 7],\n",
        "])\n",
        "\n",
        "\n",
        "mask_ref = torch.LongTensor([\n",
        "    [1, 1, 1, 1, 0, 0, 0],\n",
        "    [1, 1, 0, 0, 0, 0, 0],\n",
        "    [1, 1, 1, 1, 1, 1, 1],\n",
        "])\n",
        "\n",
        "input_ids, mask = collate_fn(batch)\n",
        "\n",
        "assert (input_ids == input_ids_ref).all()\n",
        "assert (mask == mask_ref).all()\n",
        "print(\"All good\")"
      ]
    },
    {
      "cell_type": "markdown",
      "metadata": {
        "id": "iL3BTOpzAe-w"
      },
      "source": [
        "## Соберем DataLoader - 5 баллов\n",
        "\n",
        "Нужно заполнить пропущенные поля и убедиться, что в датасете есть замаскированные токены!"
      ]
    },
    {
      "cell_type": "code",
      "execution_count": null,
      "metadata": {
        "id": "VSrQoUK8Ae-w"
      },
      "outputs": [],
      "source": [
        "from torch.utils.data.sampler import RandomSampler\n",
        "\n",
        "BATCH_SIZE = 16\n",
        "\n",
        "# ---- Ваш код здесь ----\n",
        "sampler = RandomSampler(...)\n",
        "train_loader = DataLoader(\n",
        "...\n",
        ")\n",
        "\n",
        "# ---- Конец кода ----\n",
        "\n",
        "\n",
        "for input_ids, mask in train_loader:\n",
        "    break\n",
        "\n",
        "assert (mask.sum(dim=1) < mask.size(1)).sum() < mask.size(0)\n",
        "assert input_ids.size(0) == 16\n",
        "print(\"all good\")"
      ]
    },
    {
      "cell_type": "markdown",
      "metadata": {
        "id": "V9Qz2wINAe-w"
      },
      "source": [
        "# Transformer - 20 баллов\n",
        "\n",
        "Немного модфицированный блок трансформера, который мы скопируем с предыдущего занятия!"
      ]
    },
    {
      "cell_type": "code",
      "execution_count": null,
      "metadata": {
        "id": "QJZ2X636Ae-w"
      },
      "outputs": [],
      "source": [
        "import torch\n",
        "import torch.nn as nn\n",
        "from dataclasses import dataclass\n",
        "\n",
        "\n",
        "@dataclass\n",
        "class Config:\n",
        "    d_model: int = 768 # он же hidden_dim - внутрення размерность модели\n",
        "    debug: bool = True\n",
        "    layer_norm_eps: float = 1e-5\n",
        "    d_vocab: int = 50257 # он же vocab_size, размер словаря модели\n",
        "    init_range: float = 0.02\n",
        "    n_ctx: int = 1024 # число позиционных эмбеддингов\n",
        "    d_head: int = 64 # размерность головы аттеншена\n",
        "    d_mlp: int = 3072 # внутренняя размерность FFN-слоя\n",
        "    n_heads: int = 12 # число голов аттеншена\n",
        "    n_layers: int = 12 # число слоев трансформера\n",
        "\n",
        "cfg = Config()\n",
        "print(cfg)"
      ]
    },
    {
      "cell_type": "markdown",
      "metadata": {
        "id": "jv4YukVYAe-w"
      },
      "source": [
        "Эти модули остаются без изменений!\n",
        "Скопируйте их из предыдущего домашнего задания."
      ]
    },
    {
      "cell_type": "code",
      "execution_count": null,
      "metadata": {
        "id": "bGGzGdw4Ae-w"
      },
      "outputs": [],
      "source": [
        "class Embed(nn.Module):\n",
        "    def __init__(self, cfg: Config):\n",
        "        super().__init__()\n",
        "        self.cfg = cfg\n",
        "        self.W_E = nn.Parameter(torch.empty((cfg.d_vocab, cfg.d_model)))\n",
        "        nn.init.normal_(self.W_E, std=self.cfg.init_range)\n",
        "\n",
        "    def forward(self, input_ids: Int[Tensor, \"batch seq_len\"]) -> Float[Tensor, \"batch seq_len d_model\"]:\n",
        "        # ---- Ваш код здесь ----\n",
        "        raise NotImplemented()\n",
        "        # ---- Конец кода ----\n",
        "\n",
        "\n",
        "\n",
        "class Unembed(nn.Module):\n",
        "    def __init__(self, cfg):\n",
        "        super().__init__()\n",
        "        self.cfg = cfg\n",
        "        self.W_U = nn.Parameter(torch.empty((cfg.d_model, cfg.d_vocab)))\n",
        "        nn.init.normal_(self.W_U, std=self.cfg.init_range)\n",
        "        self.b_U = nn.Parameter(torch.zeros((cfg.d_vocab)))\n",
        "\n",
        "    def forward(\n",
        "        self, x: Float[Tensor, \"batch seq_len d_model\"]\n",
        "    ) -> Float[Tensor, \"batch seq_len d_vocab\"]:\n",
        "\n",
        "        # ---- Ваш код здесь ----\n",
        "        raise NotImplemented()\n",
        "        # ---- Конец кода ----\n",
        "\n",
        "class MLP(nn.Module):\n",
        "    def __init__(self, cfg: Config):\n",
        "        super().__init__()\n",
        "        self.cfg = cfg\n",
        "        self.W_in = nn.Parameter(torch.empty((cfg.d_model, cfg.d_mlp)))\n",
        "        self.W_out = nn.Parameter(torch.empty((cfg.d_mlp, cfg.d_model)))\n",
        "        self.b_in = nn.Parameter(torch.zeros((cfg.d_mlp)))\n",
        "        self.b_out = nn.Parameter(torch.zeros((cfg.d_model)))\n",
        "        nn.init.normal_(self.W_in, std=self.cfg.init_range)\n",
        "        nn.init.normal_(self.W_out, std=self.cfg.init_range)\n",
        "\n",
        "    def forward(\n",
        "        self, x: Float[Tensor, \"batch seq_len d_model\"]\n",
        "    ) -> Float[Tensor, \"batch seq_len d_model\"]:\n",
        "\n",
        "        # ---- Ваш код здесь ----\n",
        "        raise NotImplemented()\n",
        "        # ---- Конец кода ----\n",
        "\n"
      ]
    },
    {
      "cell_type": "markdown",
      "metadata": {
        "id": "fnbApshmAe-x"
      },
      "source": [
        "## RMSNorm - 5 баллов\n",
        "\n",
        "Здесь нужно написать RMSNorm. В качестве формулы стоит ориентироваться на формулу 4 из [статьи RMSNorm](https://arxiv.org/pdf/1910.07467)\n",
        "\n",
        "\n",
        "$$\\bar{x}_i = \\frac{x_i}{\\text{RMS}(\\mathbf{x})} w_i, \\quad \\text{where} \\quad \\text{RMS}(\\mathbf{x}) = \\sqrt{\\frac{1}{n} \\sum_{i=1}^{n} x_i^2}$$\n",
        "\n"
      ]
    },
    {
      "cell_type": "code",
      "execution_count": null,
      "metadata": {
        "id": "x7cAYjNEAe-x"
      },
      "outputs": [],
      "source": [
        "class RMSNorm(nn.Module):\n",
        "    def __init__(self, cfg: Config):\n",
        "        super().__init__()\n",
        "        self.cfg = cfg\n",
        "        self.w = nn.Parameter(torch.ones(cfg.d_model)) # gamma\n",
        "\n",
        "    def forward(self, x: Float[Tensor, \"batch seq_len d_model\"]) -> Float[Tensor, \"batch seq_len d_model\"]:\n",
        "        # ---- Ваш код здесь ----\n",
        "        raise NotImplemented()\n",
        "        # ---- Конец кода ----\n",
        "\n",
        "\n",
        "\n",
        "cfg_rmsnorm = Config(d_model=5)\n",
        "x = torch.Tensor([[[0.1, 0.2, 0.3, 0.4, 0.5]]]).to(device)\n",
        "layer = RMSNorm(cfg_rmsnorm).to(device)\n",
        "y = torch.Tensor([[[0.3015, 0.6030, 0.9045, 1.2060, 1.5076]]]).to(device)\n",
        "assert torch.allclose(y, layer(x), atol=1e-4, rtol=1e-3)\n",
        "print(\"OK\")"
      ]
    },
    {
      "cell_type": "markdown",
      "metadata": {
        "id": "a1n931-AAe-x"
      },
      "source": [
        "## Rotary Embeddings - 5 баллов\n",
        "\n",
        "Нужно написать роторные эмбеддинги из [статьи](https://arxiv.org/pdf/2104.09864). В качестве формулы нужно взять пункт 3.4.2!\n"
      ]
    },
    {
      "cell_type": "code",
      "execution_count": null,
      "metadata": {
        "id": "A0265gIuAe-x"
      },
      "outputs": [],
      "source": [
        "class RotaryPositionalEmbeddings(nn.Module):\n",
        "\n",
        "    def __init__(self, cfg: Config, theta: int = 10_000):\n",
        "        super().__init__()\n",
        "        self.cfg = cfg\n",
        "        self.max_seq_len = cfg.n_ctx\n",
        "        self.theta = theta\n",
        "        self.d = cfg.d_head\n",
        "\n",
        "        # ---- Ваш код здесь ----\n",
        "        # Углы theta_i. Смотрите секуцию 2.2 статьи для формулы!\n",
        "        freqs = ...\n",
        "        position_id = torch.arange(0, self.max_seq_len).float()\n",
        "\n",
        "        # нужно получить матрицу m theta_i размера [max_seq_len, self.d] вида m theta_i\n",
        "        # где m берется из position_id, а theta из freqs\n",
        "\n",
        "        idx_theta = ...\n",
        "\n",
        "        # max_seq_len, d_head\n",
        "        cos = idx_theta.cos()\n",
        "        sin = idx_theta.sin()\n",
        "\n",
        "        # нужно продублировать размерности для формулы 34. theta_i встерчается два раза подряд в синусах и косинуса\n",
        "        # тут нам поможет torch.repeat_interleave\n",
        "        cos = ...\n",
        "        sin = ...\n",
        "        # ---- Конец кода ----\n",
        "\n",
        "\n",
        "\n",
        "        # 1, max_seq_len, 1, d_head\n",
        "        self.register_buffer(\"sin\", sin.view(1, self.max_seq_len, 1, self.d))\n",
        "        self.register_buffer(\"cos\", cos.view(1, self.max_seq_len, 1, self.d))\n",
        "\n",
        "    @staticmethod\n",
        "    def rotate_neg_vector(x: Float[torch.Tensor, \"batch seq_len num_heads d_head\"]):\n",
        "        # На входе x = [x1, x2, x3, x4, ... x_{n-1}, x_n]\n",
        "        # На выходе x' = [-x2, x1, -x4, x3, ..., -x_n, x_{n-1}]\n",
        "        x_new = torch.empty_like(x)\n",
        "\n",
        "\n",
        "        # ---- Ваш код здесь ----\n",
        "        raise NotImplemented()\n",
        "        # ---- Конец кода ----\n",
        "\n",
        "        return x_new\n",
        "\n",
        "    def forward(self, x: Float[torch.Tensor, \"batch seq_len num_heads d_head\"]):\n",
        "        seq_len = x.size(1)\n",
        "        x_rot = self.rotate_neg_vector(x)\n",
        "\n",
        "        # ---- Ваш код здесь ----\n",
        "        x_rope = ...\n",
        "        # ---- Конец кода ----\n",
        "\n",
        "        return x_rope\n",
        "\n",
        "\n",
        "\n",
        "\n",
        "batch_size = 1\n",
        "seq_len = 3\n",
        "num_heads = 1\n",
        "d_head = 16\n",
        "\n",
        "torch.manual_seed(1)\n",
        "x = torch.rand(batch_size, seq_len, num_heads, d_head)\n",
        "\n",
        "rope_config = Config(\n",
        "    n_heads=2,\n",
        "    d_head=16,\n",
        ")\n",
        "\n",
        "rope_layer = RotaryPositionalEmbeddings(rope_config)\n",
        "y = rope_layer(x)\n",
        "\n",
        "\n",
        "from math import sin, cos\n",
        "\n",
        "\n",
        "thetas = [10_000 ** (-2 * (i - 1) / rope_config.d_head) for i in range(1, rope_config.d_head // 2 + 1)]\n",
        "all_good = True\n",
        "for batch_idx in range(batch_size):\n",
        "    for m in range(seq_len):\n",
        "        if not all_good:\n",
        "            break\n",
        "        for head_idx in range(num_heads):\n",
        "            if not all_good:\n",
        "                break\n",
        "            for d_idx in range(d_head):\n",
        "                # 0, 2, 4\n",
        "                if d_idx % 2 == 0:\n",
        "                    val = x[batch_idx, m, head_idx, d_idx] * cos(m * thetas[d_idx // 2]) - x[batch_idx, m, head_idx, d_idx + 1] * sin(m * thetas[d_idx // 2])\n",
        "                else:\n",
        "                    val = x[batch_idx, m, head_idx, d_idx] * cos(m * thetas[d_idx // 2]) + x[batch_idx, m, head_idx, d_idx - 1] * sin(m * thetas[d_idx // 2])\n",
        "                if abs(y[batch_idx, m, head_idx, d_idx] - val) > 1e-3:\n",
        "                    print(f\"Ошибка на позиции {m} и размерности {d_idx} в голове {head_idx}\")\n",
        "                    print(f\"Полученное значение {y[batch_idx, m, head_idx, d_idx]}, референс {val}\")\n",
        "                    all_good = False\n",
        "                    break\n",
        "\n",
        "\n",
        "if all_good:\n",
        "    print(\"Тесты прошли успешно!\")\n"
      ]
    },
    {
      "cell_type": "markdown",
      "metadata": {
        "id": "gknyVHKFAe-x"
      },
      "source": [
        "##  Attention masking - 3 балла\n",
        "\n",
        "Копируем имлементацию из предыдущего домашнего задания, но теперь нужно учесть и маски с паддингами.\n",
        "Для этого в `forward` и `apply_causal_mask` подана mask.\n",
        "\n",
        "В оригинальном задании 3 мы считали, что паддингов нет, поэтому делали маску нижней треугольной, чтобы токен i смотрел на токен j только тогда, когда `i >= j`, т.е. токен i мог смотреть все токены до него.\n",
        "\n",
        "Теперь же нужно сверх этого добавить еще и паддинг, т.е:\n",
        "\n",
        "1. Нам дается маска `[batch_size, seq_len]` из `collate_fn`. Напомню, что на позиции `[batch_idx, m]` стоит 1, если токен настоящий или 0, если это паддинг\n",
        "2. Мы должны модифицировать нашу нижнюю треугольную маску таким образом, чтобы не только не смотреть в будущее, но и не смотреть на паддинг.\n",
        "\n",
        "\n",
        "## Attention Rotary Embedding - 2 балла\n",
        "Также нужно вставить в attention слой роторные эмбеддинги:\n",
        "1. Нужно добавить их в init метод модели, в качестве theta можно оставить 10000\n",
        "2. Нужно применять их к матрицам Q, K перед матричным умножением $Q K^T$ в функции _get_qkv"
      ]
    },
    {
      "cell_type": "code",
      "execution_count": null,
      "metadata": {
        "id": "gov0ybBbAe-x"
      },
      "outputs": [],
      "source": [
        "class Attention(nn.Module):\n",
        "    IGNORE: Float[Tensor, \"\"]\n",
        "\n",
        "    def __init__(self, cfg: Config):\n",
        "        super().__init__()\n",
        "        self.cfg = cfg\n",
        "\n",
        "        self.W_Q = nn.Parameter(torch.empty((cfg.n_heads, cfg.d_model, cfg.d_head)))\n",
        "        self.b_Q = nn.Parameter(torch.zeros((cfg.n_heads, cfg.d_head)))\n",
        "\n",
        "        self.W_K = nn.Parameter(torch.empty((cfg.n_heads, cfg.d_model, cfg.d_head)))\n",
        "        self.b_K = nn.Parameter(torch.zeros((cfg.n_heads, cfg.d_head)))\n",
        "\n",
        "        self.W_V = nn.Parameter(torch.empty((cfg.n_heads, cfg.d_model, cfg.d_head)))\n",
        "        self.b_V = nn.Parameter(torch.zeros((cfg.n_heads, cfg.d_head)))\n",
        "\n",
        "        self.W_O = nn.Parameter(torch.empty((cfg.n_heads, cfg.d_head, cfg.d_model)))\n",
        "        self.b_O = nn.Parameter(torch.zeros((cfg.d_model)))\n",
        "\n",
        "\n",
        "\n",
        "        # ---- Ваш код здесь ----\n",
        "        self.rope = ...\n",
        "        # ---- Конец кода ----\n",
        "\n",
        "\n",
        "        nn.init.normal_(self.W_Q, std=self.cfg.init_range)\n",
        "        nn.init.normal_(self.W_K, std=self.cfg.init_range)\n",
        "        nn.init.normal_(self.W_V, std=self.cfg.init_range)\n",
        "        nn.init.normal_(self.W_O, std=self.cfg.init_range)\n",
        "        self.register_buffer(\"IGNORE\", torch.tensor(float(\"-inf\"), dtype=torch.float32, device=device))\n",
        "\n",
        "    def _get_qkv(\n",
        "        self, x: Float[Tensor, \"batch seq_len d_model\"]\n",
        "    ) -> Tuple[Float[Tensor, \"batch seq_len num_heads d_head\"]]:\n",
        "        \"\"\"1. Трансформируем матрицы проекций в формат [d_model, d_model] и получаем проекции  Q, K, V\"\"\"\n",
        "        # Берем размерности\n",
        "        batch_size, seq_len, d_model = x.shape\n",
        "        num_heads = self.cfg.n_heads\n",
        "        d_head = self.cfg.d_head\n",
        "\n",
        "        W_Q = self.W_Q.permute(1, 0, 2).reshape(self.cfg.d_model, self.cfg.d_model)\n",
        "        W_K = self.W_K.permute(1, 0, 2).reshape(self.cfg.d_model, self.cfg.d_model)\n",
        "        W_V = self.W_V.permute(1, 0, 2).reshape(self.cfg.d_model, self.cfg.d_model)\n",
        "\n",
        "        b_Q = self.b_Q.view(-1)\n",
        "        b_K = self.b_K.view(-1)\n",
        "        b_V = self.b_V.view(-1)\n",
        "\n",
        "\n",
        "        # ---- Ваш код здесь ----\n",
        "        Q = ...\n",
        "        K = ...\n",
        "        V = ...\n",
        "        # не забудьте применить self.rotary после проекций!\n",
        "        # ---- Конец кода ----\n",
        "\n",
        "\n",
        "        return Q, K, V\n",
        "\n",
        "    def _get_attention_dotprod(\n",
        "        self,\n",
        "        Q: Float[Tensor, \"batch seq_len num_heads d_head\"],\n",
        "        K: Float[Tensor, \"batch seq_len num_heads d_head\"]\n",
        "    ) -> Float[Tensor, \"batch num_heads seq_len seq_len\"]:\n",
        "        \"\"\"Q x K^T\"\"\"\n",
        "        # ---- Ваш код здесь ----\n",
        "        raise NotImplemented()\n",
        "        # ---- Конец кода ----\n",
        "\n",
        "    def _get_attention_scores(\n",
        "        self,\n",
        "        attention_scores: Float[Tensor, \"batch num_heads seq_len seq_len\"],\n",
        "        mask: Int[Tensor, \"batch seq_len\"]\n",
        "    ) -> Float[Tensor, \"batch num_heads seq_len seq_len\"]:\n",
        "        \"\"\"Нормализация, маскирование и softmax\"\"\"\n",
        "        # ---- Ваш код здесь ----\n",
        "        raise NotImplemented()\n",
        "        # ---- Конец кода ----\n",
        "\n",
        "    def _get_final_projection(\n",
        "        self,\n",
        "        V: Float[Tensor, \"batch seq_len num_heads d_head\"],\n",
        "        attn_probs: Float[Tensor, \"batch num_heads seq_len seq_len\"]\n",
        "    ) -> Float[Tensor, \"batch seq_len d_model\"]:\n",
        "        \"\"\"Финальная проекция\n",
        "        permute [ batch, num_heads, seq_len, d_head]\"\"\"\n",
        "        batch_size, seq_len = V.shape[0], V.shape[1]\n",
        "        d_model = self.cfg.d_model\n",
        "        num_heads = self.cfg.n_heads\n",
        "        d_head = self.cfg.d_head\n",
        "\n",
        "        # ---- Ваш код здесь ----\n",
        "        raise NotImplemented()\n",
        "        # ---- Конец кода ----\n",
        "\n",
        "    def forward(\n",
        "        self, x: Float[Tensor, \"batch seq_len d_model\"],  mask: Int[Tensor, \"batch seq_len\"]\n",
        "    ) -> Float[Tensor, \"batch seq_len d_model\"]:\n",
        "        # 1. получаем проекции  Q, K, V\n",
        "        Q, K, V = self._get_qkv(x)\n",
        "        # 2. Q x K^T\n",
        "        attention_scores = self._get_attention_dotprod(Q, K)\n",
        "\n",
        "        # 3. Нормализация, маскирование и softmax\n",
        "        attn_probs = self._get_attention_scores(attention_scores, mask)\n",
        "\n",
        "        # 6. Финальная проекция\n",
        "        # permute [ batch, num_heads, seq_len, d_head]\n",
        "        res = self._get_final_projection(V, attn_probs)\n",
        "        return res\n",
        "\n",
        "    def apply_causal_mask(\n",
        "        self, attn_scores: Float[Tensor, \"batch n_heads seq_len seq_len\"], mask: Int[Tensor, \"batch seq_len\"]\n",
        "    ) -> Float[Tensor, \"batch n_heads seq_len seq_len\"]:\n",
        "        '''\n",
        "        Applies a causal mask to attention scores, and returns masked scores.\n",
        "        Используем треугольную маску, чтобы не смотреть в будущее!\n",
        "        В качестве масикировочного значения перед софтмаксом можно использовать self.IGNORE (-inf)\n",
        "\n",
        "        В дополнение к предыдущему заданию используйте аргумент mask, чтобы не смотреть не только на будущие токены,\n",
        "        но и на паддинги.\n",
        "        Сами паддинги могут смотреть на любые токены.\n",
        "        '''\n",
        "        seq_len = mask.size(1)\n",
        "        # ---- Ваш код здесь ----\n",
        "        raise NotImplemented()\n",
        "        # ---- Конец кода ----\n",
        "\n",
        "\n",
        "mask_padding = torch.LongTensor([\n",
        "    [1, 1, 1, 1, 0, 0, 0],\n",
        "    [1, 1, 0, 0, 0, 0, 0],\n",
        "    [1, 1, 1, 1, 1, 1, 1],\n",
        "]).to(device)\n",
        "\n",
        "lengths = mask_padding.sum(dim=1).tolist()\n",
        "\n",
        "\n",
        "batch_size = 3\n",
        "seq_len = 7\n",
        "d_head = 8\n",
        "n_heads = 4\n",
        "torch.manual_seed(1)\n",
        "x = torch.rand(batch_size, n_heads, seq_len, seq_len).to(device)\n",
        "\n",
        "attn = Attention(cfg).to(device)\n",
        "softmax_res = torch.softmax(attn.apply_causal_mask(x, mask_padding), dim=-1)\n",
        "\n",
        "for batch_idx in range(batch_size):\n",
        "    for head_idx in range(n_heads):\n",
        "        sm = softmax_res[batch_idx, head_idx]\n",
        "        l = lengths[batch_idx]\n",
        "        for i in range(seq_len):\n",
        "            for j in range(seq_len):\n",
        "                # i < j - Causal mask, проверяем, что не смотрим в будущее!\n",
        "                # j >= l - проверяем, что не смотрим на паддинги!\n",
        "                if i < j or j >= l:\n",
        "                    assert sm[i, j] == 0, (batch_idx, head_idx, i, j, sm[i, j])\n",
        "\n",
        "_ = attn(torch.rand(batch_size, seq_len, 768).to(device), mask_padding.to(device))\n",
        "print(\"All good\")"
      ]
    },
    {
      "cell_type": "markdown",
      "metadata": {
        "id": "z_TzTaPNAe-x"
      },
      "source": [
        "## Собираем Transformer - 5\n",
        "\n",
        "1. В TransformerBlock и DemoTransformer немного модифицируем код из предыдущего задания, чтобы передавать mask в слои аттеншена.\n",
        "2. Не используем позиционные эмбеддинги, т.к. кодирование позиционной информации уже заложено в роторные эмбеддинги, которые являются частью attention слоя\n"
      ]
    },
    {
      "cell_type": "code",
      "execution_count": null,
      "metadata": {
        "id": "Oct8-IpcAe-x"
      },
      "outputs": [],
      "source": [
        "class TransformerBlock(nn.Module):\n",
        "    def __init__(self, cfg: Config):\n",
        "        super().__init__()\n",
        "        self.cfg = cfg\n",
        "        self.ln1 = RMSNorm(cfg)\n",
        "        self.attn = Attention(cfg)\n",
        "        self.ln2 = RMSNorm(cfg)\n",
        "        self.mlp = MLP(cfg)\n",
        "\n",
        "    def forward(\n",
        "        self, x: Float[Tensor, \"batch seq_len d_model\"], mask: Float[Tensor, \"batch seq_len\"]\n",
        "    ) -> Float[Tensor, \"batch seq_len d_model\"]:\n",
        "        # ---- Ваш код здесь ----\n",
        "        raise NotImplemented()\n",
        "        # ---- Конец кода ----\n",
        "\n",
        "\n",
        "class DemoTransformer(nn.Module):\n",
        "    def __init__(self, cfg: Config):\n",
        "        super().__init__()\n",
        "        self.cfg = cfg\n",
        "        self.embed = Embed(cfg)\n",
        "        self.blocks = nn.ModuleList([TransformerBlock(cfg) for _ in range(cfg.n_layers)])\n",
        "        self.ln_final = RMSNorm(cfg)\n",
        "        self.unembed = Unembed(cfg)\n",
        "\n",
        "    def forward(self, input_ids: Int[Tensor, \"batch seq_len\"], mask: Int[Tensor, \"batch seq_len\"]) -> Float[Tensor, \"batch seq_len d_vocab\"]:\n",
        "        # ---- Ваш код здесь ----\n",
        "        raise NotImplemented()\n",
        "        # ---- Конец кода ----"
      ]
    },
    {
      "cell_type": "code",
      "execution_count": null,
      "metadata": {
        "id": "ukRTkqa1Ae-y"
      },
      "outputs": [],
      "source": [
        "train_config = Config(\n",
        "    d_model=128,\n",
        "    n_ctx=512,\n",
        "    n_heads=8,\n",
        "    d_head=16,\n",
        "    d_mlp=512,\n",
        "    n_layers=12\n",
        ")\n",
        "model = DemoTransformer(train_config).to(device)\n",
        "\n",
        "for input_ids, mask in train_loader:\n",
        "    break\n",
        "\n",
        "p = model(input_ids.to(device), mask.to(device))\n",
        "\n",
        "\n",
        "assert list(p.shape) == [input_ids.size(0), input_ids.size(1), train_config.d_vocab]\n",
        "p.sum().backward()\n",
        "\n",
        "del model\n",
        "del p\n",
        "print(\"all good\")"
      ]
    },
    {
      "cell_type": "markdown",
      "metadata": {
        "id": "rf4pHJPoAe-y"
      },
      "source": [
        "# Обучение - 15 баллов\n",
        "\n",
        "## calculate_loss - 5\n",
        "\n",
        "Здесь нужно написать обычный training loop. Вначале напишем функцию для подсчета функции потерь `calculate_loss`. Функция принимает выходы модели logits размерности \\[batch_size, seq_len, vocab_size\\], input_ids размерности \\[batch_size, seq_len\\] и attention_mask размерности \\[batch_size, seq_len\\].\n",
        "\n",
        "Так как мы хотим учиться на задаче языкового моделирования, в logits на позиции \\[i, j\\] находится распределение токенов по словарю для токена на позиции \\[i, j + 1\\] (мы предсказываем следующий токен). Каждое такое предсказание следующего токена мы будем рассматривать как задачу классификации и учить с помощью кроссэнтропийной функции потерь.\n",
        "\n",
        "Алгоритм:\n",
        "1. Обрезаем logits по размерности seq_len справа на 1: последний токен на позиции N у нас предсказывает токен на позиции N + 1, однако (N + 1)-го токена у нас нет, поэтому использовать эти предсказания для обучения мы не сможем.\n",
        "2. Заводим переменную labels - для этого обрезаем input_ids слева на 1. Это будет наш массив меток. Мы обрезаем его слева на 1 по размерности seq_len, т.е. по сути сдвигагем этот массив таким образом, что на j-й позиции теперь стоит (j + 1)-й токен. Это очень важно для подсчета функции потерь, т.к. мы предсказываем следующий токен\n",
        "3. Аналогично labels обрезаем attention_mask и переводим маску в `.bool()`\n",
        "4. На позициях, где attention_mask == 0 (паддинги) проставляем в labels значение -100. Это дефолтное значение [ignore_index](https://pytorch.org/docs/stable/generated/torch.nn.CrossEntropyLoss.html) из кроссэнтропийной функции потерь, означающее, что для этой метки не будет считаться функция потерь. Таким образом мы не будем учиться предсказывать паддинги\n",
        "5. Объеднияем в logits и labels размерности batch и seqlen с помощью view и подаем это в кроссэнтропийную функцию потерь, считаем loss\n"
      ]
    },
    {
      "cell_type": "code",
      "execution_count": null,
      "metadata": {
        "id": "q7pAO0SdAe-y"
      },
      "outputs": [],
      "source": [
        "from math import log\n",
        "\n",
        "\n",
        "criterion = nn.CrossEntropyLoss()\n",
        "pad_id = tokenizer.pad_token_id\n",
        "\n",
        "def calculate_loss(logits, input_ids, attention_mask):\n",
        "    labels = input_ids.detach().clone()\n",
        "    # ---- Ваш код здесь ----\n",
        "    raise NotImplemented()\n",
        "    # ---- Конец кода ----\n",
        "\n",
        "\n",
        "\n",
        "batch_size = 2\n",
        "seq_len = 4\n",
        "num_classes = 7\n",
        "\n",
        "input_ids = torch.LongTensor(\n",
        "    [\n",
        "        [0, 1,  pad_id, pad_id],\n",
        "        [0, 1, 2, 3]\n",
        "    ]\n",
        ")\n",
        "\n",
        "attention_mask = torch.LongTensor(\n",
        "    [\n",
        "        [1, 1, 0, 0],\n",
        "        [1, 1, 1, 1]\n",
        "    ]\n",
        ")\n",
        "\n",
        "\n",
        "# batch_size, seq_len, num_classes\n",
        "logits = torch.Tensor(\n",
        "    [[[0.7576, 0.2793, 0.4031, 0.7347, 0.0293, 0.7999, 0.3971],\n",
        "         [0.7544, 0.5695, 0.4388, 0.6387, 0.5247, 0.6826, 0.3051],\n",
        "         [0.4635, 0.4550, 0.5725, 0.4980, 0.9371, 0.6556, 0.3138],\n",
        "         [0.1980, 0.4162, 0.2843, 0.3398, 0.5239, 0.7981, 0.7718]],\n",
        "\n",
        "        [[0.0112, 0.8100, 0.6397, 0.9743, 0.8300, 0.0444, 0.0246],\n",
        "         [0.2588, 0.9391, 0.4167, 0.7140, 0.2676, 0.9906, 0.2885],\n",
        "         [0.8750, 0.5059, 0.2366, 0.7570, 0.2346, 0.6471, 0.3556],\n",
        "         [0.4452, 0.0193, 0.2616, 0.7713, 0.3785, 0.9980, 0.9008]]]\n",
        ")\n",
        "logits.requires_grad=True\n",
        "\n",
        "loss = calculate_loss(logits, input_ids, attention_mask)\n",
        "\n",
        "assert abs(loss.item() - 1.934269905) < 1e-3\n",
        "print(loss.item())"
      ]
    },
    {
      "cell_type": "markdown",
      "metadata": {
        "id": "M9hRKcXNFSBb"
      },
      "source": [
        "## Training loop - 5\n",
        "\n",
        "\n",
        "Давайте теперь напишем training loop:\n",
        "1. Перемещаем input_ids и mask на правильный device\n",
        "2. Зануляем градиенты модели\n",
        "3. Считаем выходы модели (logits)\n",
        "4. Считаем функцию потерь с помощью функции calculate_loss\n",
        "5. Делаем backward и обновляем веса оптимизатором\n",
        "\n",
        "Учить модель лучше 10+ эпох.\n",
        "\n",
        "Также предлагается добавлять значения функции потерь в массив losses, чтобы изобразить её изменения в следующей клетке на графике"
      ]
    },
    {
      "cell_type": "code",
      "execution_count": null,
      "metadata": {
        "id": "fy8_eXGEAe-y"
      },
      "outputs": [],
      "source": [
        "import torch.optim as optim\n",
        "\n",
        "model = DemoTransformer(cfg).to(device)\n",
        "\n",
        "model = model.train()\n",
        "optimizer = optim.Adam(model.parameters(), lr=1e-4)\n",
        "criterion = nn.CrossEntropyLoss()\n",
        "\n",
        "losses = []\n",
        "for epoch in range(15):\n",
        "    for input_ids, mask in tqdm(train_loader):\n",
        "        # 1. перемещаем входы на device\n",
        "        input_ids = input_ids.to(device)\n",
        "        mask = mask.to(device)\n",
        "        # ---- Ваш код здесь ----\n",
        "        # 2. Обнуляем градиенты\n",
        "        ...\n",
        "        # 3. Считаем выходы модели\n",
        "        ...\n",
        "        # 4. считаем функцию потерь\n",
        "        loss = ...\n",
        "        # 5. Делаем backward и шаг оптимизации\n",
        "\n",
        "        losses.append(loss.item())\n",
        "        # ---- Конец кода ----"
      ]
    },
    {
      "cell_type": "code",
      "execution_count": null,
      "metadata": {
        "id": "-Ezat1yvAe-y"
      },
      "outputs": [],
      "source": [
        "import matplotlib.pyplot as plt\n",
        "plt.plot(losses)"
      ]
    },
    {
      "cell_type": "markdown",
      "metadata": {
        "id": "XN08MGaBAe-y"
      },
      "source": [
        "## Генерация - 5 баллов\n",
        "Давайте теперь попробуем посмотреть, что у нас обучилось! Для этого проверим себя на жадной генерации.\n",
        "\n",
        "Для этого:\n",
        "1. Подаем входы в модель\n",
        "2. Берем последний элемент в logits по размерности seq_len и argmax по нему. Это сгенерированный токен, полученный жадным сэмплингом.\n",
        "3. Конкатенируем его ко входам, конкатенируем \\[\\[1\\]\\] в маску\n",
        "4. Генерируем так 30 токенов"
      ]
    },
    {
      "cell_type": "code",
      "execution_count": null,
      "metadata": {
        "id": "qcayBMRkAe-y"
      },
      "outputs": [],
      "source": [
        "input_text = text[:13]\n",
        "inputs = tokenizer(input_text, return_tensors=\"pt\")\n",
        "\n",
        "input_ids = inputs[\"input_ids\"].to(device)\n",
        "mask = inputs[\"attention_mask\"].to(device)\n",
        "\n",
        "orig_size = input_ids.size(1)\n",
        "\n",
        "num_tokens_to_generate = 30\n",
        "\n",
        "with torch.no_grad():\n",
        "    for i in range(num_tokens_to_generate):\n",
        "\n",
        "        # ---- Ваш код здесь ----\n",
        "        logits = ...\n",
        "        next_token = ...\n",
        "        input_ids = ...\n",
        "        mask = ...\n",
        "        # ---- Конец кода ----\n",
        "\n",
        "print(\"Input text:\\n\", input_text)\n",
        "print()\n",
        "print(\"Generated text:\\n\", tokenizer.decode(input_ids[0]))"
      ]
    },
    {
      "cell_type": "markdown",
      "metadata": {
        "id": "MFhyAmAPAe-y"
      },
      "source": [
        "Если все прошло успешно, то мы увидим какой-то небольшой, возможно,  повторяющийся текст. Смысла в нем скорее всего будет немного, но издалека он будет выглядеть вполне реалистично.\n",
        "\n",
        "Осталось отмашстабировать модель, накинуть данных и получится настоящий pretrain!"
      ]
    }
  ],
  "metadata": {
    "accelerator": "GPU",
    "colab": {
      "gpuType": "T4",
      "provenance": [],
      "include_colab_link": true
    },
    "kaggle": {
      "accelerator": "none",
      "dataSources": [],
      "dockerImageVersionId": 30698,
      "isGpuEnabled": false,
      "isInternetEnabled": true,
      "language": "python",
      "sourceType": "notebook"
    },
    "kernelspec": {
      "display_name": "Python 3 (ipykernel)",
      "language": "python",
      "name": "python3"
    },
    "language_info": {
      "codemirror_mode": {
        "name": "ipython",
        "version": 3
      },
      "file_extension": ".py",
      "mimetype": "text/x-python",
      "name": "python",
      "nbconvert_exporter": "python",
      "pygments_lexer": "ipython3",
      "version": "3.10.10"
    }
  },
  "nbformat": 4,
  "nbformat_minor": 0
}